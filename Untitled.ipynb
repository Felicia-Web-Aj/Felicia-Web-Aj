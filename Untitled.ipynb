{
 "cells": [
  {
   "cell_type": "code",
   "execution_count": 1,
   "id": "d772b248-3d69-4b43-bd79-068488d0de13",
   "metadata": {},
   "outputs": [
    {
     "name": "stdout",
     "output_type": "stream",
     "text": [
      "welcome to the Sentiment Analyzer!\n"
     ]
    },
    {
     "name": "stdin",
     "output_type": "stream",
     "text": [
      "Enter a sentence to analyze: I hate to see you cry\n"
     ]
    },
    {
     "name": "stdout",
     "output_type": "stream",
     "text": [
      "Sentiment:Negative😠\n"
     ]
    }
   ],
   "source": [
    "from textblob import TextBlob\n",
    "print(\"welcome to the Sentiment Analyzer!\")\n",
    "text = input(\"Enter a sentence to analyze:\")\n",
    "blob = TextBlob(text)\n",
    "sentiment = blob.sentiment.polarity\n",
    "\n",
    "if sentiment > 0:\n",
    "    print(\"Sentiment:Positive😊\")\n",
    "elif sentiment <0:\n",
    "    print(\"Sentiment:Negative😠\")\n",
    "else:\n",
    "    print(\"Sentiment:Neutral😐\")"
   ]
  },
  {
   "cell_type": "code",
   "execution_count": null,
   "id": "efcbf4eb-a0d2-4c0a-9667-3ea0e5fd9807",
   "metadata": {},
   "outputs": [],
   "source": []
  }
 ],
 "metadata": {
  "kernelspec": {
   "display_name": "Python 3 (ipykernel)",
   "language": "python",
   "name": "python3"
  },
  "language_info": {
   "codemirror_mode": {
    "name": "ipython",
    "version": 3
   },
   "file_extension": ".py",
   "mimetype": "text/x-python",
   "name": "python",
   "nbconvert_exporter": "python",
   "pygments_lexer": "ipython3",
   "version": "3.12.4"
  }
 },
 "nbformat": 4,
 "nbformat_minor": 5
}
